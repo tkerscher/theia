{
 "cells": [
  {
   "cell_type": "markdown",
   "metadata": {},
   "source": [
    "# Volume Tracing\n",
    "\n",
    "We will start with a rather simple example: A point light source and a spherical\n",
    "detector, both submerged in a homogenous medium. This will introduce reoccurring\n",
    "topics used in most simulations."
   ]
  },
  {
   "cell_type": "code",
   "execution_count": null,
   "metadata": {},
   "outputs": [],
   "source": [
    "# Uncomment this, if you run this on Google Colab\n",
    "# !sudo apt-get install -y libnvidia-gl-550 vulkan-tools\n",
    "# !pip install git+https://github.com/tkerscher/theia"
   ]
  },
  {
   "cell_type": "code",
   "execution_count": null,
   "metadata": {},
   "outputs": [],
   "source": [
    "import numpy as np\n",
    "import matplotlib.pyplot as plt\n",
    "\n",
    "import hephaistos as hp\n",
    "import hephaistos.pipeline as pl\n",
    "\n",
    "import theia\n",
    "import theia.units as u\n",
    "\n",
    "# print device we run this on\n",
    "print(hp.getCurrentDevice())"
   ]
  },
  {
   "cell_type": "markdown",
   "metadata": {},
   "source": [
    "## Medium"
   ]
  },
  {
   "cell_type": "markdown",
   "metadata": {},
   "source": [
    "In order to be able to trace light, we need to define the medium it propagates in.\n",
    "Theia already gives us some building blocks to give as a head start.\n",
    "\n",
    "We will model a dispersion free medium, that is its optical properties do not\n",
    "depend on the wavelength, with a scattering distribution described by the\n",
    "Henyey-Greenstein phase function."
   ]
  },
  {
   "cell_type": "code",
   "execution_count": null,
   "metadata": {},
   "outputs": [],
   "source": [
    "from theia.material import DispersionFreeMedium, HenyeyGreensteinPhaseFunction, MediumModel\n",
    "\n",
    "class MediumModel(\n",
    "    DispersionFreeMedium,\n",
    "    HenyeyGreensteinPhaseFunction,\n",
    "    MediumModel,\n",
    "):\n",
    "    def __init__(self, *, n, mu_a, mu_s, g) -> None:\n",
    "        DispersionFreeMedium.__init__(self, n=n, ng=n, mu_a=mu_a, mu_s=mu_s)\n",
    "        HenyeyGreensteinPhaseFunction.__init__(self, g)\n",
    "\n",
    "    # name of the model used for referencing it later\n",
    "    ModelName = \"homogenous\"\n",
    "\n",
    "model = MediumModel(n=1.33, mu_a=0.05 / u.m, mu_s = 0.02 / u.m, g=0.2)\n",
    "medium = model.createMedium()"
   ]
  },
  {
   "cell_type": "markdown",
   "metadata": {},
   "source": [
    "Currently the medium is still on CPU. We need to make it available on GPU using `MaterialStore`.\n",
    "In more advanced examples it will also handle materials, hence the name."
   ]
  },
  {
   "cell_type": "code",
   "execution_count": null,
   "metadata": {},
   "outputs": [],
   "source": [
    "from theia.material import MaterialStore\n",
    "\n",
    "matStore = MaterialStore([], media=[medium])"
   ]
  },
  {
   "cell_type": "markdown",
   "metadata": {},
   "source": [
    "## Light"
   ]
  },
  {
   "cell_type": "markdown",
   "metadata": {},
   "source": [
    "Next, we define the light source. In `theia` light sources a split into a\n",
    "`LightSource` that samples the direction and amount of emitted light, and a\n",
    "`WavelengthSource` that samples the wavelength. This modularization was chosen\n",
    "to allow more reusability.\n",
    "\n",
    "Since in dispersion free media the wavelength does not matter, we use a constant\n",
    "one. For the light source, as mentioned earlier, we will use a point light source."
   ]
  },
  {
   "cell_type": "code",
   "execution_count": null,
   "metadata": {},
   "outputs": [],
   "source": [
    "from theia.light import ConstWavelengthSource, SphericalLightSource\n",
    "\n",
    "wavelength = ConstWavelengthSource(500.0 * u.nm)\n",
    "light = SphericalLightSource(\n",
    "    position=(1.0, 0.0, 0.0) * u.m, # position of the light source\n",
    "    timeRange=(0.0, 10.0) * u.ns,   # time range light will be produced\n",
    "    budget=1.0e5                    # How much light produced\n",
    ")"
   ]
  },
  {
   "cell_type": "markdown",
   "metadata": {},
   "source": [
    "You might have noticed, that the light budget does not have a unit. This is by\n",
    "design, as the tracing simulation does not dictate one. Depending on the\n",
    "context of your simulation the budget can for instance be photons or energy."
   ]
  },
  {
   "cell_type": "markdown",
   "metadata": {},
   "source": [
    "## Target"
   ]
  },
  {
   "cell_type": "markdown",
   "metadata": {},
   "source": [
    "With our light settled, we now define our target. The tracer will test it for\n",
    "intersections with the light ray during the tracing.\n",
    "\n",
    "In this simulation this will be a simple spherical target."
   ]
  },
  {
   "cell_type": "code",
   "execution_count": null,
   "metadata": {},
   "outputs": [],
   "source": [
    "from theia.target import SphereTarget\n",
    "\n",
    "target = SphereTarget(\n",
    "    position=(-1.0, 0.0, 0.0) * u.m,\n",
    "    radius=50.0 * u.cm,\n",
    ")"
   ]
  },
  {
   "cell_type": "markdown",
   "metadata": {},
   "source": [
    "## Response"
   ]
  },
  {
   "cell_type": "markdown",
   "metadata": {},
   "source": [
    "The tracer itself does not know what to do with the hits it created.\n",
    "Instead it passes them on to the response module.\n",
    "\n",
    "Here we use a somewhat special response: `HistogramHitResponse`\n",
    "First it asks a second `ValueResponse` to transform the hit to a single number\n",
    "and timestamp. The response uses these to create a histogram on the GPU only\n",
    "copying back the final histogram. In our case we use a simple uniform value\n",
    "response that simply returns the received energy. (The cosine of the surface\n",
    "normal was already taken care of by the tracer)\n",
    "\n",
    "This has two advantages: We cannot only salvage the computational power of the\n",
    "GPU, we also reduce the amount of data transferred between CPU and GPU. Since\n",
    "programs running on the latter are typically bandwidth limited this actually\n",
    "increases performance."
   ]
  },
  {
   "cell_type": "code",
   "execution_count": null,
   "metadata": {},
   "outputs": [],
   "source": [
    "from theia.response import HistogramHitResponse, UniformValueResponse\n",
    "\n",
    "n_bins = 100\n",
    "bin_size = 5.0 * u.ns\n",
    "\n",
    "value = UniformValueResponse()\n",
    "response = HistogramHitResponse(\n",
    "    value,\n",
    "    nBins=n_bins,\n",
    "    binSize=bin_size,\n",
    ")"
   ]
  },
  {
   "cell_type": "markdown",
   "metadata": {},
   "source": [
    "## Random Number Generator"
   ]
  },
  {
   "cell_type": "markdown",
   "metadata": {},
   "source": [
    "Last building block before we can create the tracer is the source of random\n",
    "numbers."
   ]
  },
  {
   "cell_type": "code",
   "execution_count": null,
   "metadata": {},
   "outputs": [],
   "source": [
    "from theia.random import PhiloxRNG\n",
    "\n",
    "rng = PhiloxRNG(key=42)"
   ]
  },
  {
   "cell_type": "markdown",
   "metadata": {},
   "source": [
    "If no key or seed is given, a random one from the OS will be used.\n",
    "Usually this is not desired, as it makes the result of your simulation\n",
    "non-reproducible."
   ]
  },
  {
   "cell_type": "markdown",
   "metadata": {},
   "source": [
    "## Tracer"
   ]
  },
  {
   "cell_type": "markdown",
   "metadata": {},
   "source": [
    "Finally, with all necessary building blocks created, we can define the tracer."
   ]
  },
  {
   "cell_type": "code",
   "execution_count": null,
   "metadata": {},
   "outputs": [],
   "source": [
    "from theia.trace import VolumeForwardTracer\n",
    "\n",
    "batch_size = 512 * 1024 # how many light paths to sample per run\n",
    "sample_coef = 0.05 / u.m # \"scatter\" length used for sampling path segment lengths\n",
    "n_scatter = 10 # Number of scatter events to simulate for each path\n",
    "\n",
    "tracer = VolumeForwardTracer(\n",
    "    batch_size,\n",
    "    light,\n",
    "    target,\n",
    "    wavelength,\n",
    "    response,\n",
    "    rng,\n",
    "    scatterCoefficient=sample_coef,\n",
    "    nScattering=n_scatter,\n",
    "    # Do not forget this line! Otherwise we will trace in vacuum!\n",
    "    medium=matStore.media[\"homogenous\"],\n",
    ")\n",
    "# notify the rng to advance automatically between runs\n",
    "rng.autoAdvance = tracer.nRNGSamples"
   ]
  },
  {
   "cell_type": "markdown",
   "metadata": {},
   "source": [
    "## Pipeline + Scheduler"
   ]
  },
  {
   "cell_type": "markdown",
   "metadata": {},
   "source": [
    "The building blocks need to be assembled into a pipeline, that handles the\n",
    "submission of work to the GPU."
   ]
  },
  {
   "cell_type": "code",
   "execution_count": null,
   "metadata": {},
   "outputs": [],
   "source": [
    "pipeline = pl.Pipeline(tracer.collectStages())"
   ]
  },
  {
   "cell_type": "markdown",
   "metadata": {},
   "source": [
    "The orchestration of processing the results of each batch on the CPU and running\n",
    "batches on the GPU are handled by a `PipelineScheduler`. We can pass a process\n",
    "function to it, that gets automatically called for each finished batch. The\n",
    "scheduler will then wait for it to finish before issuing the next batch. However,\n",
    "since the pipeline is double buffered, there is on batch in flight while the\n",
    "previous one is processed allowing for some parallelism between GPU and CPU."
   ]
  },
  {
   "cell_type": "code",
   "execution_count": null,
   "metadata": {},
   "outputs": [],
   "source": [
    "hists = []\n",
    "\n",
    "def process(config: int, task: int) -> None:\n",
    "    # store a copy of the histogram in a list\n",
    "    hists.append(response.result(config).copy())\n",
    "\n",
    "scheduler = pl.PipelineScheduler(pipeline, processFn=process)"
   ]
  },
  {
   "cell_type": "markdown",
   "metadata": {},
   "source": [
    "## Running the pipeline"
   ]
  },
  {
   "cell_type": "markdown",
   "metadata": {},
   "source": [
    "Now everything is set up and we are ready to issue batches of work.\n",
    "\n",
    "A single work submission is defined by a dictionary describing the state changes\n",
    "of the stages in the pipeline. For now we only simulate a single setting, so\n",
    "these dictionaries are empty"
   ]
  },
  {
   "cell_type": "code",
   "execution_count": null,
   "metadata": {},
   "outputs": [],
   "source": [
    "n_runs = 20\n",
    "\n",
    "# define 20 runs\n",
    "tasks = [{}, ] * n_runs\n",
    "\n",
    "# submit work to scheduler\n",
    "scheduler.schedule(tasks)"
   ]
  },
  {
   "cell_type": "markdown",
   "metadata": {},
   "source": [
    "After submitting the work, we are free to do something else on the CPU side.\n",
    "Since we do not have anything to do right now, we will simply wait for the work\n",
    "to finish."
   ]
  },
  {
   "cell_type": "code",
   "execution_count": null,
   "metadata": {},
   "outputs": [],
   "source": [
    "scheduler.wait()"
   ]
  },
  {
   "cell_type": "markdown",
   "metadata": {},
   "source": [
    "## Finalizing the results"
   ]
  },
  {
   "cell_type": "markdown",
   "metadata": {},
   "source": [
    "This was one of the simplest simulations possible. The only thing left to do is\n",
    "to create some nice plots."
   ]
  },
  {
   "cell_type": "code",
   "execution_count": null,
   "metadata": {},
   "outputs": [],
   "source": [
    "# combine the individual histograms\n",
    "final_hist = np.mean(hists, 0)\n",
    "\n",
    "# create the time coordinates of the bins\n",
    "t = np.arange(n_bins) * bin_size"
   ]
  },
  {
   "cell_type": "code",
   "execution_count": null,
   "metadata": {},
   "outputs": [],
   "source": [
    "plt.figure()\n",
    "plt.step(t, final_hist)\n",
    "plt.yscale(\"log\")\n",
    "plt.show()"
   ]
  }
 ],
 "metadata": {
  "language_info": {
   "name": "python"
  }
 },
 "nbformat": 4,
 "nbformat_minor": 2
}
