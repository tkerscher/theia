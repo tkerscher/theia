{
 "cells": [
  {
   "cell_type": "markdown",
   "metadata": {},
   "source": [
    "# PROPOSAL (WIP)\n",
    "\n",
    "This notebook shows how one can combine this library with\n",
    "[PROPOSAL](https://github.com/tudo-astroparticlephysics/PROPOSAL)\n",
    "to simulate the detection of leptons traveling through water via Cherenkov light.\n",
    "\n",
    "It also functions as a hands-on tutorial on what a simulation pipeline using\n",
    "this library can look like.\n",
    "\n",
    "(work in progress)"
   ]
  },
  {
   "cell_type": "code",
   "execution_count": 1,
   "metadata": {},
   "outputs": [],
   "source": [
    "import numpy as np\n",
    "import matplotlib.pyplot as plt\n",
    "import hephaistos.pipeline as pl\n",
    "import proposal as pp\n",
    "import theia\n",
    "import theia.units as u"
   ]
  },
  {
   "cell_type": "markdown",
   "metadata": {},
   "source": [
    "## Setup Propagator\n",
    "\n",
    "Here we just reproduce the setup of PROPOSAL as described here:\n",
    "https://github.com/tudo-astroparticlephysics/PROPOSAL/blob/master/examples/AdvancedPropagator.ipynb"
   ]
  },
  {
   "cell_type": "code",
   "execution_count": 2,
   "metadata": {},
   "outputs": [],
   "source": [
    "from pathlib import Path\n",
    "\n",
    "# pp.InterpolationSettings.tables_path = \"/tmp\"\n",
    "pp.InterpolationSettings.tables_path = str(Path.home() / \"proposal\")"
   ]
  },
  {
   "cell_type": "code",
   "execution_count": 3,
   "metadata": {},
   "outputs": [],
   "source": [
    "args = {\n",
    "    \"particle_def\": pp.particle.MuMinusDef(),\n",
    "    \"target\": pp.medium.AntaresWater(),\n",
    "    \"interpolate\": True,\n",
    "    \"cuts\": pp.EnergyCutSettings(np.inf, 0.05, False),\n",
    "}\n",
    "cross = pp.crosssection.make_std_crosssection(**args)"
   ]
  },
  {
   "cell_type": "code",
   "execution_count": 4,
   "metadata": {},
   "outputs": [],
   "source": [
    "collection = pp.PropagationUtilityCollection()\n",
    "\n",
    "collection.displacement = pp.make_displacement(cross, True)\n",
    "collection.interaction = pp.make_interaction(cross, True)\n",
    "collection.time = pp.make_time(cross, args[\"particle_def\"], True)\n",
    "\n",
    "utility = pp.PropagationUtility(collection=collection)"
   ]
  },
  {
   "cell_type": "code",
   "execution_count": 5,
   "metadata": {},
   "outputs": [],
   "source": [
    "geometry = pp.geometry.Box(pp.Cartesian3D(0,0,0), 1e20, 1e20, 1e20)\n",
    "density_distr = pp.density_distribution.density_homogeneous(args[\"target\"].mass_density)"
   ]
  },
  {
   "cell_type": "code",
   "execution_count": 6,
   "metadata": {},
   "outputs": [],
   "source": [
    "prop = pp.Propagator(args[\"particle_def\"], [(geometry, utility, density_distr)])"
   ]
  },
  {
   "cell_type": "markdown",
   "metadata": {},
   "source": [
    "## Setup Photon Simulation\n",
    "\n",
    "Next up is the creation of the simulation pipeline."
   ]
  },
  {
   "cell_type": "markdown",
   "metadata": {},
   "source": [
    "Now here's the juicy part where we setup the photon simulation pipeline\n",
    "and create some estimations. We start with some configuration to have them in\n",
    "one place."
   ]
  },
  {
   "cell_type": "code",
   "execution_count": 7,
   "metadata": {},
   "outputs": [],
   "source": [
    "# light settings\n",
    "lambdaRange = (400.0, 800.0) * u.nm\n",
    "\n",
    "# tracing settings\n",
    "batchSize = 2**20 # ~ 1 Mio rays\n",
    "nScatter = 6\n",
    "t_max = 1000.0 * u.ns\n",
    "\n",
    "# estimator settings\n",
    "nBins = 200\n",
    "binSize = 5.0 * u.ns\n",
    "t0 = 0.0 * u.ns\n",
    "\n",
    "# schedule settings\n",
    "runsPerTarget = 5"
   ]
  },
  {
   "cell_type": "markdown",
   "metadata": {},
   "source": [
    "### Media creation"
   ]
  },
  {
   "cell_type": "markdown",
   "metadata": {},
   "source": [
    "Our detector setup consists of multiple glass spheres submerged in water.\n",
    "So naturally, we start with creating media for water and glass each.\n",
    "\n",
    "There's a ready made glass model for BK7 glass, but the water we have to\n",
    "plunge together ourselves. For that one can use the `WaterBaseModel` for the\n",
    "optical properties and a phase function for scattering. Since it's easier, we'll\n",
    "use `HenyeyGreensteinPhaseFunction`, but for accurate water modeling one should\n",
    "prefer `FournierForandPhaseFunction` instead. Since internally all `Medium` are\n",
    "essentially a collection of lookup tables, lastly we also inherit from\n",
    "`MediumModel` which provides a convenient function to sample the analytic\n",
    "functions."
   ]
  },
  {
   "cell_type": "code",
   "execution_count": 8,
   "metadata": {},
   "outputs": [],
   "source": [
    "class WaterModel(\n",
    "    theia.material.WaterBaseModel,\n",
    "    theia.material.HenyeyGreensteinPhaseFunction,\n",
    "    theia.material.MediumModel,\n",
    "):\n",
    "    def __init__(self) -> None:\n",
    "        theia.material.WaterBaseModel.__init__(self, 5.0, 1000.0, 35.0)\n",
    "        theia.material.HenyeyGreensteinPhaseFunction.__init__(self, 0.6)\n",
    "\n",
    "    ModelName = \"water\""
   ]
  },
  {
   "cell_type": "code",
   "execution_count": 9,
   "metadata": {},
   "outputs": [],
   "source": [
    "# call createMedium() to convert analytic model to sampled one\n",
    "water = WaterModel().createMedium()\n",
    "glass = theia.material.BK7Model().createMedium()"
   ]
  },
  {
   "cell_type": "markdown",
   "metadata": {},
   "source": [
    "We can now use the media to create materials. When we later add geometries,\n",
    "they'll define an inside and an outside. Materials assign to both volumes a\n",
    "medium and some flags controlling the simulations behavior when a ray hits it.\n",
    "In our case we have water outside and glass inside. We also mark the inward\n",
    "direction as detector to generate hits and mark the outside direction as\n",
    "absorber to stop rays originating from within the detector to propagate and\n",
    "eventually creating hits. Since light sources won't check wether they're inside\n",
    "detector geometries, this ensures we wont simulate nonsensical rays. See\n",
    "`MaterialFlags` and `parseMaterialFlags` for what the literals means."
   ]
  },
  {
   "cell_type": "code",
   "execution_count": 10,
   "metadata": {},
   "outputs": [],
   "source": [
    "material = theia.material.Material(\"mat\", glass, water, flags=(\"D\", \"B\"))"
   ]
  },
  {
   "cell_type": "markdown",
   "metadata": {},
   "source": [
    "Currently these models live on the CPU, but we need to get them to the GPU in\n",
    "order to be usable by the simulation pipeline. `MediaStore` does that for us.\n",
    "It optionally also allows to update material and media, but we don't need that\n",
    "here."
   ]
  },
  {
   "cell_type": "code",
   "execution_count": 11,
   "metadata": {},
   "outputs": [],
   "source": [
    "matStore = theia.material.MaterialStore([material])"
   ]
  },
  {
   "cell_type": "markdown",
   "metadata": {},
   "source": [
    "### Scene Creation"
   ]
  },
  {
   "cell_type": "markdown",
   "metadata": {},
   "source": [
    "Before talking about scenes, we first need to introduce the notion of geometries.\n",
    "A geometry is a triangulated polygon of any shape separating two volumes. Each\n",
    "vertex of the polygon stores beside its position also a normal direction, which\n",
    "by definition points outwards and therefore allow to label the two volumes as\n",
    "inside and outside. Furthermore, the normals allow to approximate smooth\n",
    "surfaces as they are interpolated over a triangles surface.\n",
    "\n",
    "To allow hardware accelerated ray tracing against geometries they first need to be\n",
    "processed. This happens in `MeshStore`. It also allows to reuse similar shapes,\n",
    "e.g. in our case all our detectors are spheres so we only need to store a single\n",
    "sphere. Later on one create multiple instances from a single mesh (shape) and\n",
    "assign an affine transformation to each including scaling and rotation. See\n",
    "`Transformation` for a util class creating such transformations.\n",
    "\n",
    "Now let's start with creating a sphere mesh and populate a `MeshStore` with it."
   ]
  },
  {
   "cell_type": "code",
   "execution_count": 12,
   "metadata": {},
   "outputs": [],
   "source": [
    "# load sphere model from disk\n",
    "meshStore = theia.scene.MeshStore({\n",
    "    \"sphere\": \"../assets/sphere.stl\"\n",
    "})"
   ]
  },
  {
   "cell_type": "markdown",
   "metadata": {},
   "source": [
    "To use the geometries in a scene, one needs to create instances of them.\n",
    "Each instance also takes a material and transformation. Additionally, in case\n",
    "the geometry is a detector it also stores a `detectorId` to distinguish them.\n",
    "Since hits are recorded in geometry local coordinates, i.e. the reverse\n",
    "transformation is applied, they can't distinguish detectors by hit position.\n",
    "\n",
    "Besides mesh instances, a scene holds some additional information. It defines\n",
    "a boundary box outside which ray tracing is stopped, a medium all instances are\n",
    "submerged in (note that the outside medium of the instance as defined by its\n",
    "material must match this) and finally targets, which are spheres some tracing\n",
    "algorithms use to aid the tracing simulation to ensure a higher hit rate.\n",
    "\n",
    "Hopefully, the creation of a scene is (somewhat) intuitive so let's dig right in."
   ]
  },
  {
   "cell_type": "code",
   "execution_count": 13,
   "metadata": {},
   "outputs": [],
   "source": [
    "# here we define the positions of our detectors\n",
    "positions = np.array([\n",
    "    (0.0, 0.0, 0.0),\n",
    "    (0.0, 0.0, 20.0),\n",
    "    (0.0, 0.0, 40.0),\n",
    "    (0.0, 0.0, 60.0),\n",
    "    (0.0, 0.0, 80.0),\n",
    "    (0.0, 0.0, 100.0),\n",
    "]) * u.m\n",
    "radius = 50.0 * u.cm"
   ]
  },
  {
   "cell_type": "code",
   "execution_count": 14,
   "metadata": {},
   "outputs": [],
   "source": [
    "# to make it more readable create transformations separately\n",
    "transforms = [\n",
    "    theia.scene.Transform.Scale(radius, radius, radius).translate(*pos)\n",
    "    for pos in positions\n",
    "]\n",
    "# finally create our scene\n",
    "scene = theia.scene.Scene(\n",
    "    [\n",
    "        meshStore.createInstance(\"sphere\", \"mat\", transform=t, detectorId=i)\n",
    "        for i, t in enumerate(transforms)\n",
    "    ], # instances\n",
    "    matStore.material, # material dict for lookups\n",
    "    medium=matStore.media[\"water\"], # scene medium\n",
    "    bbox=theia.scene.RectBBox((-1. * u.km,) * 3, (1. * u.km,) * 3),\n",
    "    targets=[theia.scene.SphereBBox(pos, radius) for pos in positions]\n",
    ")"
   ]
  },
  {
   "cell_type": "markdown",
   "metadata": {},
   "source": [
    "### Pipeline Creation"
   ]
  },
  {
   "cell_type": "markdown",
   "metadata": {},
   "source": [
    "Last step before doing actual simulation is to define the simulation pipeline.\n",
    "The pipeline API is from `hephaistos`, the underlying GPGPU framework, but fits\n",
    "here nicely as it allows to plug different models into a single \"program\".\n",
    "\n",
    "A typical light simulation pipeline consists of the following stages:\n",
    "- Random Number Generator\n",
    "- Light Source\n",
    "- Ray Tracer\n",
    "- Estimator\n",
    "\n",
    "The first three should be self explanatory. The last one, the estimator is\n",
    "nothing to fancy either: It simply consumes the hits generated by the tracer\n",
    "and creates a final product. This can be the hits copied back to the CPU or\n",
    "(what we'll use) a histogram.\n",
    "Since tracers usually only create hits for a single detector per run, this is\n",
    "rather easy.\n",
    "\n",
    "Quick note on why tracers usually only create hits for one detector:\n",
    "They all try to \"aim\" for a specific detector so we expect to have mostly hits\n",
    "from a single detector anyway, but this also make things like the histogram\n",
    "estimator easier and provides an obvious way to split work across multiple GPUs.\n",
    "This aiming is especially useful for forcing the tracer to generate hits on\n",
    "distant detectors."
   ]
  },
  {
   "cell_type": "markdown",
   "metadata": {},
   "source": [
    "#### Random Number Generator"
   ]
  },
  {
   "cell_type": "markdown",
   "metadata": {},
   "source": [
    "Theia currently comes with two random number generators:\n",
    "- `PhiloxRNG`: Counter based pseudo random number generator\n",
    "- `SobolQRNG`: Scrambled Sobol sequence (lookup RQMC)\n",
    "\n",
    "While the scrambled Sobol is a bit slower, it creates higher quality random\n",
    "number usually resulting in a much higher converging rate of the MC estimate\n",
    "(O(N^-1) instead of O(N^-1/2))."
   ]
  },
  {
   "cell_type": "code",
   "execution_count": 15,
   "metadata": {},
   "outputs": [],
   "source": [
    "rng = theia.random.SobolQRNG(seed=0xC001C0FFEE)"
   ]
  },
  {
   "cell_type": "markdown",
   "metadata": {},
   "source": [
    "#### Light Source"
   ]
  },
  {
   "cell_type": "markdown",
   "metadata": {},
   "source": [
    "There are already multiple light source available and one can even define a\n",
    "custom one with a bit of shader code. For our case there's already a light\n",
    "source simulating the Cherenkov light from a particle track:\n",
    "`CherenkovTrackLightSource`.\n",
    "It allows to define a photon source for sampling wavelengths, which can be used\n",
    "to importance sample the detector response. Here we'll just a uniform wavelength\n",
    "distribution. Of course the individual energy/photon count transported is still\n",
    "calculated using the Frank-Tamm formula."
   ]
  },
  {
   "cell_type": "code",
   "execution_count": 16,
   "metadata": {},
   "outputs": [],
   "source": [
    "# allocate memory for the track; we'll fit it later\n",
    "# let's allocate enough for 100 vertices, which hopefully is much more than we need\n",
    "track = theia.light.ParticleTrack(100)\n",
    "# create light source\n",
    "photons = theia.light.UniformPhotonSource(\n",
    "    lambdaRange=lambdaRange,\n",
    "    timeRange=(0.0,0.0) # disable photon time sampling (separate from track time)\n",
    ")\n",
    "light = theia.light.CherenkovTrackLightSource(\n",
    "    photons, track,\n",
    "    medium=matStore.media[\"water\"],\n",
    "    usePhotonCount=True,\n",
    ")"
   ]
  },
  {
   "cell_type": "markdown",
   "metadata": {},
   "source": [
    "#### Tracer"
   ]
  },
  {
   "cell_type": "markdown",
   "metadata": {},
   "source": [
    "A tracer uses the light source to sample light rays it then propagates. If such\n",
    "a ray hits the specified detector it creates a hit and pass it to the response\n",
    "function, here it's just a simple Lambertian response, but you can create your\n",
    "own with a little bit of shader code.\n",
    "\n",
    "There are different tracing algorithms each with their own pros and cons.\n",
    "We're going to use `SceneShadowTracer` as our detectors are not occluded by\n",
    "other geometry."
   ]
  },
  {
   "cell_type": "code",
   "execution_count": 17,
   "metadata": {},
   "outputs": [],
   "source": [
    "response = theia.estimator.UniformHitResponse()\n",
    "tracer = theia.trace.SceneShadowTracer(\n",
    "    batchSize,\n",
    "    light,\n",
    "    response,\n",
    "    rng,\n",
    "    scene=scene,\n",
    "    nScattering=nScatter,\n",
    "    maxTime=t_max,\n",
    ")"
   ]
  },
  {
   "cell_type": "markdown",
   "metadata": {},
   "source": [
    "We'll also tell the RNG to advance the stream by the amount the tracer draws per\n",
    "batch so we don't have to do that ourselves. (`tracer.nRNGSamples` already\n",
    "includes the amount of samples the light source draws)"
   ]
  },
  {
   "cell_type": "code",
   "execution_count": 18,
   "metadata": {},
   "outputs": [],
   "source": [
    "rng.autoAdvance = tracer.nRNGSamples"
   ]
  },
  {
   "cell_type": "markdown",
   "metadata": {},
   "source": [
    "#### Estimator"
   ]
  },
  {
   "cell_type": "markdown",
   "metadata": {},
   "source": [
    "An estimator takes the hits produced by the tracer and creates a final\n",
    "product. This could be simply copying back the hits to the CPU, but since the\n",
    "data is already on the GPU, we'll create the histogram there."
   ]
  },
  {
   "cell_type": "code",
   "execution_count": 19,
   "metadata": {},
   "outputs": [],
   "source": [
    "estimator = theia.estimator.HistogramEstimator(\n",
    "    response.queue,\n",
    "    nBins=nBins,\n",
    "    t0=t0,\n",
    "    binSize=binSize,\n",
    "    normalization=tracer.normalization,\n",
    ")"
   ]
  },
  {
   "cell_type": "markdown",
   "metadata": {},
   "source": [
    "#### Putting it all together"
   ]
  },
  {
   "cell_type": "markdown",
   "metadata": {},
   "source": [
    "Finally, we take all this stages and create our pipeline."
   ]
  },
  {
   "cell_type": "code",
   "execution_count": 20,
   "metadata": {},
   "outputs": [],
   "source": [
    "pipeline = pl.Pipeline([\n",
    "    rng,\n",
    "    photons,\n",
    "    light,\n",
    "    (\"tracer\", tracer), # give tracer a custom name\n",
    "    response,\n",
    "    estimator,\n",
    "])"
   ]
  },
  {
   "cell_type": "markdown",
   "metadata": {},
   "source": [
    "## Setup Scheduler"
   ]
  },
  {
   "cell_type": "markdown",
   "metadata": {},
   "source": [
    "Since the GPU is doing the heavy lifting here, we want to ensure it does not\n",
    "need to wait for the CPU to feed it the next task once it finishes the previous\n",
    "one.\n",
    "\n",
    "The simulation pipeline already internally double buffers its configuration,\n",
    "which allows us to prepare the next batch while the previous one is still\n",
    "processed. Hephaistos provides a scheduler that takes care of synchronizing\n",
    "the GPU with the update process on the CPU, while it goes through a list of\n",
    "tasks each describing a pipeline configuration it wants to run. We will also\n",
    "specify a process() function that gets called after each task finishes allowing\n",
    "us to safely collect the result."
   ]
  },
  {
   "cell_type": "code",
   "execution_count": 21,
   "metadata": {},
   "outputs": [],
   "source": [
    "histograms = []\n",
    "def process(config: int, task: int) -> None:\n",
    "    # copy result (original will be overwritten)\n",
    "    hist = estimator.result(config).copy()\n",
    "    histograms.append(hist)\n",
    "\n",
    "scheduler = pl.PipelineScheduler(pipeline, processFn=process)"
   ]
  },
  {
   "cell_type": "markdown",
   "metadata": {},
   "source": [
    "## Running the Simulation\n",
    "\n",
    "Finally, we show how to use the simulation pipeline in conjunction with PROPOSAL\n",
    "to streamline the process."
   ]
  },
  {
   "cell_type": "markdown",
   "metadata": {},
   "source": [
    "### Generating a Particle Track"
   ]
  },
  {
   "cell_type": "markdown",
   "metadata": {},
   "source": [
    "We still haven't asked PROPOSAL to actually create a particle track.\n",
    "So let's do this now."
   ]
  },
  {
   "cell_type": "code",
   "execution_count": 22,
   "metadata": {},
   "outputs": [],
   "source": [
    "init_state = pp.particle.ParticleState()\n",
    "init_state.energy = 1e9\n",
    "init_state.position = pp.Cartesian3D(500, 500, 0) # move outside detector\n",
    "init_state.direction = pp.Cartesian3D(0, 0, 1)"
   ]
  },
  {
   "cell_type": "code",
   "execution_count": 23,
   "metadata": {},
   "outputs": [],
   "source": [
    "secondaries = prop.propagate(init_state)"
   ]
  },
  {
   "cell_type": "markdown",
   "metadata": {},
   "source": [
    "We can now store the particle track on the GPU."
   ]
  },
  {
   "cell_type": "code",
   "execution_count": 24,
   "metadata": {},
   "outputs": [],
   "source": [
    "# fetch track data\n",
    "n = secondaries.track_length()\n",
    "vertices = np.empty((n, 4), dtype=np.float32)\n",
    "track_pos = secondaries.track_positions()\n",
    "track_time = secondaries.track_times()\n",
    "for i in range(n):\n",
    "    vertices[i,0] = track_pos[i].x * u.cm\n",
    "    vertices[i,1] = track_pos[i].y * u.cm\n",
    "    vertices[i,2] = track_pos[i].z * u.cm\n",
    "    vertices[i,3] = track_time[i] * u.s\n",
    "# update track\n",
    "track.setVertices(vertices)"
   ]
  },
  {
   "cell_type": "markdown",
   "metadata": {},
   "source": [
    "Here we only create one track by hand, but in principle one could also create a\n",
    "custom pipeline stage that creates them on demand in its update function."
   ]
  },
  {
   "cell_type": "markdown",
   "metadata": {},
   "source": [
    "### Running the Pipeline"
   ]
  },
  {
   "cell_type": "markdown",
   "metadata": {},
   "source": [
    "The pipeline or rather its stages have an internal state and the scheduler takes\n",
    "a list of dict describing changes to this state and runs the pipeline once for\n",
    "each entry in this list. This is more intuitive once you see the corresponding\n",
    "code. (Notation is similar to scikit-learn)"
   ]
  },
  {
   "cell_type": "code",
   "execution_count": 25,
   "metadata": {},
   "outputs": [],
   "source": [
    "tasks = []\n",
    "for target in range(len(positions)):\n",
    "    tasks.append({\"tracer__targetIdx\": target})\n",
    "    # add empty configs, i.e. same config as before\n",
    "    tasks.extend([{},] * (runsPerTarget - 1))"
   ]
  },
  {
   "cell_type": "markdown",
   "metadata": {},
   "source": [
    "With the tasks defined, we can finally run the pipeline:"
   ]
  },
  {
   "cell_type": "code",
   "execution_count": 26,
   "metadata": {},
   "outputs": [
    {
     "name": "stdout",
     "output_type": "stream",
     "text": [
      "Schedule finished in 0.199s\n"
     ]
    }
   ],
   "source": [
    "from time import time\n",
    "\n",
    "start = time()\n",
    "scheduler.schedule(tasks)\n",
    "scheduler.wait()\n",
    "end = time()\n",
    "\n",
    "print(f\"Schedule finished in {(end-start):.3f}s\")"
   ]
  },
  {
   "cell_type": "markdown",
   "metadata": {},
   "source": [
    "## Visualizing Results"
   ]
  },
  {
   "cell_type": "markdown",
   "metadata": {},
   "source": [
    "We created for each detector multiple histograms, so first we have to combine\n",
    "them."
   ]
  },
  {
   "cell_type": "code",
   "execution_count": 27,
   "metadata": {},
   "outputs": [],
   "source": [
    "d = runsPerTarget\n",
    "histograms = [\n",
    "    np.sum(histograms[i*d:(i+1)*d], axis=0) for i in range(len(positions))\n",
    "]"
   ]
  },
  {
   "cell_type": "markdown",
   "metadata": {},
   "source": [
    "All that is left, is to draw the histograms:"
   ]
  },
  {
   "cell_type": "code",
   "execution_count": 28,
   "metadata": {},
   "outputs": [
    {
     "data": {
      "image/png": "[encoded data removed]",
      "text/plain": [
       "<Figure size 640x480 with 1 Axes>"
      ]
     },
     "metadata": {},
     "output_type": "display_data"
    }
   ],
   "source": [
    "t = np.arange(nBins) * binSize + t0 + 0.5 * binSize\n",
    "t = u.convert(t, u.ns)\n",
    "\n",
    "plt.figure()\n",
    "for i, hist in enumerate(histograms):\n",
    "    plt.step(t, hist, label=f\"Detector {i}\")\n",
    "plt.yscale(\"log\")\n",
    "plt.ylim(bottom=1.e-1)\n",
    "plt.xlabel(\"Time [ns]\")\n",
    "plt.ylabel(\"Photon Count\")\n",
    "plt.legend()\n",
    "plt.show()"
   ]
  }
 ],
 "metadata": {
  "kernelspec": {
   "display_name": "Python 3",
   "language": "python",
   "name": "python3"
  },
  "language_info": {
   "codemirror_mode": {
    "name": "ipython",
    "version": 3
   },
   "file_extension": ".py",
   "mimetype": "text/x-python",
   "name": "python",
   "nbconvert_exporter": "python",
   "pygments_lexer": "ipython3",
   "version": "3.10.12"
  }
 },
 "nbformat": 4,
 "nbformat_minor": 2
}
