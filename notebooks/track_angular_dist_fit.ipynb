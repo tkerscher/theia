{
 "cells": [
  {
   "cell_type": "markdown",
   "id": "2dbd8af2",
   "metadata": {},
   "source": [
    "# Angular Distribution of Cascade/Muon Tracks Fit\n",
    "\n",
    "Muon tracks, as well as electro magnetic and hadronic cascades have been\n",
    "parameterized in Leif's thesis [1]_ using the following equation:\n",
    "\n",
    "$$\n",
    "\\frac{1}{N}\\frac{dN}{d\\Omega} = a\\exp(b|\\cos(\\theta_c) - x|^c) + d\n",
    "$$\n",
    "\n",
    "Unfortunately, this function is not suitable for inverse CDF sampling, as the\n",
    "inverse is too complex. IceCube uses a similar looking function, that can be \n",
    "used for inverse CDF sampling:\n",
    "\n",
    "$$\n",
    "p(x) \\sim \\exp(-bx^a)x^{a-1}\n",
    "$$\n",
    "\n",
    "The aim of this notebook is to remap Leif's fittings to this new function.\n",
    "\n",
    "[1] L. Raedel \"Simulation Studies of the Cherenkov Light Yield from Relativistic\n",
    "    Particles in High-Energy Neutrino Telescopes with Geant 4\" (2012)"
   ]
  },
  {
   "cell_type": "markdown",
   "id": "854abff5",
   "metadata": {},
   "source": [
    "## Muons and EM Cascades"
   ]
  },
  {
   "cell_type": "markdown",
   "id": "451665cf",
   "metadata": {},
   "source": [
    "The original parameters depend on the initial energy of the primary particle:\n",
    "\n",
    "$$\n",
    "p_i = \\lambda_0 + \\lambda_1\\cdot\\ln\\left(\\frac{E}{\\text{GeV}}\\right)\n",
    "$$"
   ]
  },
  {
   "cell_type": "code",
   "execution_count": null,
   "id": "778f3469",
   "metadata": {},
   "outputs": [],
   "source": [
    "import numpy as np\n",
    "import matplotlib.pyplot as plt\n",
    "\n",
    "from dataclasses import dataclass, astuple"
   ]
  },
  {
   "cell_type": "code",
   "execution_count": null,
   "id": "fcfa2e95",
   "metadata": {},
   "outputs": [],
   "source": [
    "@dataclass\n",
    "class EnergyFit:\n",
    "    a0: float\n",
    "    a1: float\n",
    "    b0: float\n",
    "    b1: float\n",
    "    c0: float\n",
    "    c1: float\n",
    "    d0: float\n",
    "    d1: float\n",
    "\n",
    "# params of muon\n",
    "muon = EnergyFit(\n",
    "    0.34485, 0.03145,\n",
    "    -3.04160, -0.07193,\n",
    "    0.69937, -0.01421,\n",
    "    0.0, 0.0,\n",
    ")\n",
    "\n",
    "# params of EM cascades\n",
    "electron = EnergyFit(\n",
    "    4.27033, 0.0,\n",
    "    -6.02527, 0.0,\n",
    "    0.29887, 0.0,\n",
    "    -0.00103, 0.0,\n",
    ")\n",
    "positron = EnergyFit(\n",
    "    4.27725, 0.0,\n",
    "    -6.02430, 0.0,\n",
    "    0.29856, 0.0,\n",
    "    -0.00104, 0.0,\n",
    ")\n",
    "photon = EnergyFit(\n",
    "    4.25716, 0.0,\n",
    "    -6.02421, 0.0,\n",
    "    0.29926, 0.0,\n",
    "    -0.00101, 0.0,\n",
    ")"
   ]
  },
  {
   "cell_type": "code",
   "execution_count": null,
   "id": "041536d2",
   "metadata": {},
   "outputs": [],
   "source": [
    "@dataclass\n",
    "class Params:\n",
    "    a: float\n",
    "    b: float\n",
    "    c: float\n",
    "    d: float\n",
    "\n",
    "def evalParams(fit: EnergyFit, lnE: float) -> Params:\n",
    "    return Params(\n",
    "        fit.a0 + fit.a1 * lnE,\n",
    "        fit.b0 + fit.b1 * lnE,\n",
    "        fit.c0 + fit.c1 * lnE,\n",
    "        fit.d0 + fit.d1 * lnE,\n",
    "    )"
   ]
  },
  {
   "cell_type": "markdown",
   "id": "cbc5e32d",
   "metadata": {},
   "source": [
    "In the following we wont be using the a parameter, as it can be substituted by\n",
    "normalization."
   ]
  },
  {
   "cell_type": "code",
   "execution_count": null,
   "id": "0f2d7d99",
   "metadata": {},
   "outputs": [],
   "source": [
    "from scipy.special import gamma, gammainc\n",
    "from scipy.integrate import quad\n",
    "\n",
    "def norm_leif(a, b, c, d):\n",
    "    f = lambda x: np.exp(b*x**c) + d\n",
    "    return quad(f, 0, 2)[0]\n",
    "\n",
    "def f_leif(x, a, b, c, d):\n",
    "    # normalize over x in [0, 2]\n",
    "    f = -b * 2**c\n",
    "    norm = -2 * (d - f**(-1/c) * gammainc(1/c, f) * gamma(1/c) / c)\n",
    "    return (np.exp(b*x**c) + d) / norm\n",
    "\n",
    "def f_new(x, a, b):\n",
    "    # normalize over x in [0, 2]\n",
    "    norm = (1.0 - np.exp(-b * 2**a)) / (a * b)\n",
    "    return np.exp(-b*x**a)*x**(a-1.0) / norm"
   ]
  },
  {
   "cell_type": "markdown",
   "id": "50bf0357",
   "metadata": {},
   "source": [
    "We try to obtain the new parameters by minimizing a error function"
   ]
  },
  {
   "cell_type": "code",
   "execution_count": null,
   "id": "e7221fec",
   "metadata": {},
   "outputs": [],
   "source": [
    "x = np.linspace(0.1, 2.0, 200)\n",
    "\n",
    "def error(params, fit, lnE):\n",
    "    l_params = astuple(evalParams(fit, lnE))\n",
    "    return np.sqrt(np.square(f_new(x, *params) - f_leif(x, *l_params)).mean())"
   ]
  },
  {
   "cell_type": "code",
   "execution_count": null,
   "id": "5bc39a92",
   "metadata": {},
   "outputs": [],
   "source": [
    "from scipy.optimize import minimize\n",
    "\n",
    "lnE = np.linspace(0.0, np.log10(1e4))\n",
    "def fit(param):\n",
    "    params = [minimize(lambda y: error(y, param, E), (0.39, 2.61)) for E in lnE]\n",
    "    assert all(p.success for p in params)\n",
    "    return np.array([p.x for p in params])"
   ]
  },
  {
   "cell_type": "code",
   "execution_count": null,
   "id": "5c8fc3f4",
   "metadata": {},
   "outputs": [],
   "source": [
    "muon_fit = fit(muon)\n",
    "electron_fit = fit(electron)\n",
    "positron_fit = fit(positron)\n",
    "photon_fit = fit(photon)"
   ]
  },
  {
   "cell_type": "code",
   "execution_count": null,
   "id": "9f21c8ac",
   "metadata": {},
   "outputs": [],
   "source": [
    "plt.scatter(lnE, muon_fit[:,0], s=5, c=\"C0\", label=\"muon\")\n",
    "plt.scatter(lnE, muon_fit[:,1], s=1, c=\"C0\")\n",
    "plt.scatter(lnE, electron_fit[:,0], s=5, c=\"C1\", label=\"e-\")\n",
    "plt.scatter(lnE, electron_fit[:,1], s=1, c=\"C1\")\n",
    "plt.scatter(lnE, positron_fit[:,0], s=5, c=\"C2\", label=\"e+\")\n",
    "plt.scatter(lnE, positron_fit[:,1], s=1, c=\"C2\")\n",
    "plt.scatter(lnE, photon_fit[:,0], s=5, c=\"C3\", label=\"$\\gamma$\")\n",
    "plt.scatter(lnE, photon_fit[:,1], s=1, c=\"C3\")\n",
    "plt.legend()"
   ]
  },
  {
   "cell_type": "markdown",
   "id": "2c1f96c4",
   "metadata": {},
   "source": [
    "Let's make some plots to verify the quality"
   ]
  },
  {
   "cell_type": "code",
   "execution_count": null,
   "id": "b6c78e7e",
   "metadata": {},
   "outputs": [],
   "source": [
    "plt.plot(x, f_new(x, *electron_fit[-1,:]))\n",
    "plt.plot(x, f_leif(x, *astuple(evalParams(electron, lnE[-1]))), \"C0--\", label=\"e-\")\n",
    "plt.plot(x, f_new(x, *muon_fit[-1,:]))\n",
    "plt.plot(x, f_leif(x, *astuple(evalParams(muon, lnE[-1]))), \"C1--\", label=\"mu\")\n",
    "plt.legend()"
   ]
  },
  {
   "cell_type": "markdown",
   "id": "b7831309",
   "metadata": {},
   "source": [
    "Looks good to me!"
   ]
  },
  {
   "cell_type": "markdown",
   "id": "9f558efe",
   "metadata": {},
   "source": [
    "All electro magnetic cascades have almost the same constant shape parameters as\n",
    "expected:"
   ]
  },
  {
   "cell_type": "code",
   "execution_count": null,
   "id": "41aa9799",
   "metadata": {},
   "outputs": [],
   "source": [
    "print(f\"electron: {electron_fit.mean(0)} +/- {electron_fit.var(0)}\")\n",
    "print(f\"positron: {positron_fit.mean(0)} +/- {positron_fit.var(0)}\")\n",
    "print(f\"photon:   {photon_fit.mean(0)} +/- {photon_fit.var(0)}\")"
   ]
  },
  {
   "cell_type": "markdown",
   "id": "ce50d196",
   "metadata": {},
   "source": [
    "For the muon we will make a linear fit"
   ]
  },
  {
   "cell_type": "code",
   "execution_count": null,
   "id": "ea0f74a6",
   "metadata": {},
   "outputs": [],
   "source": [
    "from scipy.stats import linregress\n",
    "\n",
    "muon_a_fit = linregress(lnE, muon_fit[:,0])\n",
    "muon_b_fit = linregress(lnE, muon_fit[:,1])\n",
    "\n",
    "print(muon_a_fit)\n",
    "print(muon_b_fit)"
   ]
  },
  {
   "cell_type": "code",
   "execution_count": null,
   "id": "5e572ca7",
   "metadata": {},
   "outputs": [],
   "source": [
    "plt.scatter(lnE, muon_fit[:,0], s=5)\n",
    "plt.plot(lnE, muon_a_fit.slope * lnE + muon_a_fit.intercept, \"C0\")\n",
    "plt.scatter(lnE, muon_fit[:,1], s=5)\n",
    "plt.plot(lnE, muon_b_fit.slope * lnE + muon_b_fit.intercept, \"C1\")"
   ]
  },
  {
   "cell_type": "markdown",
   "id": "14bce48d",
   "metadata": {},
   "source": [
    "## Hadronic Cascades"
   ]
  },
  {
   "cell_type": "markdown",
   "id": "df7f6bb4",
   "metadata": {},
   "source": [
    "For hadronic showers, the energy dependency is slightly different fitted:\n",
    "\n",
    "$$\n",
    "p_i = \\lambda_i\\left(\\ln\\frac{E_0}{\\text{GeV}}\\right)^{\\kappa_i}\n",
    "$$"
   ]
  },
  {
   "cell_type": "code",
   "execution_count": null,
   "id": "72cd0058",
   "metadata": {},
   "outputs": [],
   "source": [
    "pi_plus = EnergyFit(\n",
    "    0.25877, -1.05372,\n",
    "    -3.34355, -0.22303,\n",
    "    0.70633, 0.34407,\n",
    "    0.08572, 1.90632,\n",
    ")\n",
    "pi_minus = EnergyFit(\n",
    "    0.25915, -1.05539,\n",
    "    -3.29885, -0.22989,\n",
    "    0.71082, 0.34857,\n",
    "    0.11207, 2.05247,\n",
    ")\n",
    "K0_long = EnergyFit(\n",
    "    0.25015, -1.06819,\n",
    "    -3.33393, -0.22403,\n",
    "    0.76039, 0.38042,\n",
    "    0.14898, 2.19057,\n",
    ")\n",
    "proton = EnergyFit(\n",
    "    0.13966, -1.30159,\n",
    "    -2.82378, -0.29381,\n",
    "    0.91092, 0.45380,\n",
    "    0.13845, 2.02526,\n",
    ")\n",
    "anti_proton = EnergyFit(\n",
    "    0.08111, -1.52203,\n",
    "    -2.47748, -0.34737,\n",
    "    1.16940, 0.56291,\n",
    "    0.18410, 2.07564,\n",
    ")\n",
    "neutron = EnergyFit(\n",
    "    0.11829, -1.37902,\n",
    "    -2.75135, -0.30581,\n",
    "    0.99563, 0.49587,\n",
    "    0.18446, 2.16233,\n",
    ")"
   ]
  },
  {
   "cell_type": "markdown",
   "id": "770375b8",
   "metadata": {},
   "source": [
    "Unfortunately, as it turns out the fit parameters in [1] are wrong. Luckily, the\n",
    "parameters for specific energies (from which the fits allegedly have been\n",
    "derived) are also provided, so we can use them instead."
   ]
  },
  {
   "cell_type": "code",
   "execution_count": null,
   "id": "46489e20",
   "metadata": {},
   "outputs": [],
   "source": [
    "lnE = np.log10(np.array([100.0, 300.0, 700.0, 1000.0, 3000.0, 7000.0, 10000.0]))\n",
    "\n",
    "#       a         b         c         d\n",
    "pi_plus = np.array([\n",
    "    [1.25808, -4.67573, 0.420470, 0.00451],\n",
    "    [1.58251, -4.92785, 0.390083, 0.00335],\n",
    "    [1.91994, -5.10950, 0.364429, 0.00248],\n",
    "    [2.02966, -5.17145, 0.358579, 0.00225],\n",
    "    [2.34377, -5.32730, 0.344146, 0.00158],\n",
    "    [2.55229, -5.42131, 0.336258, 0.00121],\n",
    "    [2.65911, -5.46872, 0.332784, 0.001049],\n",
    "])\n",
    "pi_minus = np.array([\n",
    "    [1.22269, -4.63988, 0.42351, 0.00479],\n",
    "    [1.62451, -4.93556, 0.38430, 0.00329],\n",
    "    [1.94942, -5.12435, 0.36260, 0.00241],\n",
    "    [2.02955, -5.17346, 0.35890, 0.00221],\n",
    "    [2.35183, -5.32977, 0.34368, 0.00157],\n",
    "    [2.59001, -5.43551, 0.33479, 0.00113],\n",
    "    [2.64348, -5.46018, 0.33312, 0.00106],\n",
    "])\n",
    "K0_long = np.array([\n",
    "    [1.17069, -4.64587, 0.43575, 0.00525],\n",
    "    [1.64024, -4.94911, 0.38360, 0.00321],\n",
    "    [1.91878, -5.11221, 0.36473, 0.00252],\n",
    "    [2.03573, -5.17383, 0.35825, 0.00221],\n",
    "    [2.31676, -5.31189, 0.34503, 0.00162],\n",
    "    [2.51987, -5.40596, 0.33735, 0.00125],\n",
    "    [2.66630, -5.46964, 0.33240, 0.00101],\n",
    "])\n",
    "proton = np.array([\n",
    "    [0.94935, -4.36386, 0.46432, 0.00617],\n",
    "    [1.35371, -4.72620, 0.40622, 0.00424],\n",
    "    [1.66206, -4.96435, 0.38204, 0.00316],\n",
    "    [1.77639, -5.02380, 0.37288, 0.00285],\n",
    "    [2.07634, -5.18953, 0.35559, 0.00213],\n",
    "    [2.37733, -5.34039, 0.34257, 0.00151],\n",
    "    [2.49654, -5.39624, 0.33821, 0.00130],\n",
    "])\n",
    "anti_proton = np.array([\n",
    "    [0.77685, -4.15854, 0.50388, 0.00757],\n",
    "    [1.13807, -4.55514, 0.43347, 0.00518],\n",
    "    [1.44369, -4.79691, 0.39771, 0.00393],\n",
    "    [1.55943, -4.87633, 0.38762, 0.00349],\n",
    "    [1.96817, -5.12279, 0.36035, 0.00236],\n",
    "    [2.25264, -5.27689, 0.34730, 0.00175],\n",
    "    [2.32799, -5.31316, 0.34414, 0.00161],\n",
    "])\n",
    "neutron = np.array([\n",
    "    [0.90987, -4.34559, 0.47466, 0.00667],\n",
    "    [1.28366, -4.68971, 0.41638, 0.00446],\n",
    "    [1.61148, -4.92327, 0.38495, 0.00331],\n",
    "    [1.75390, -5.00762, 0.37414, 0.00289],\n",
    "    [2.12352, -5.21533, 0.35345, 0.00201],\n",
    "    [2.39421, -5.34766, 0.34186, 0.00148],\n",
    "    [2.47264, -5.38598, 0.33911, 0.00134],\n",
    "])"
   ]
  },
  {
   "cell_type": "code",
   "execution_count": null,
   "id": "6be1529f",
   "metadata": {},
   "outputs": [],
   "source": [
    "def error(new_p, old_p):\n",
    "    return np.sqrt(np.square(f_new(x, *new_p) - f_leif(x, *old_p)).mean())\n",
    "\n",
    "def fit(params):\n",
    "    fits = [minimize(lambda y: error(y, p), (0.39, 2.61)) for p in params]\n",
    "    assert all(p.success for p in fits)\n",
    "    return np.array([p.x for p in fits])"
   ]
  },
  {
   "cell_type": "code",
   "execution_count": null,
   "id": "430823df",
   "metadata": {},
   "outputs": [],
   "source": [
    "pi_plus_fit = fit(pi_plus)\n",
    "pi_minus_fit = fit(pi_minus)\n",
    "K0_long_fit = fit(K0_long)\n",
    "proton_fit = fit(proton)\n",
    "anti_proton_fit = fit(anti_proton)\n",
    "neutron_fit = fit(neutron)"
   ]
  },
  {
   "cell_type": "code",
   "execution_count": null,
   "id": "23db43bc",
   "metadata": {},
   "outputs": [],
   "source": [
    "plt.scatter(lnE, pi_plus_fit[:,0], s=5, c=\"C0\", label=\"pi+\")\n",
    "plt.scatter(lnE, pi_plus_fit[:,1], s=5, c=\"C0\")\n",
    "plt.scatter(lnE, pi_minus_fit[:,0], s=5, c=\"C1\", label=\"pi-\")\n",
    "plt.scatter(lnE, pi_minus_fit[:,1], s=5, c=\"C1\")\n",
    "plt.scatter(lnE, K0_long_fit[:,0], s=5, c=\"C2\", label=\"K0\")\n",
    "plt.scatter(lnE, K0_long_fit[:,1], s=5, c=\"C2\")\n",
    "plt.scatter(lnE, proton_fit[:,0], s=5, c=\"C3\", label=\"p\")\n",
    "plt.scatter(lnE, proton_fit[:,1], s=5, c=\"C3\")\n",
    "plt.scatter(lnE, anti_proton_fit[:,0], s=5, c=\"C4\", label=\"p-\")\n",
    "plt.scatter(lnE, anti_proton_fit[:,1], s=5, c=\"C4\")\n",
    "plt.scatter(lnE, neutron_fit[:,0], s=5, c=\"C5\", label=\"n\")\n",
    "plt.scatter(lnE, neutron_fit[:,1], s=5, c=\"C5\")\n",
    "plt.legend()"
   ]
  },
  {
   "cell_type": "markdown",
   "id": "e24b6328",
   "metadata": {},
   "source": [
    "Again, make some plots to verify"
   ]
  },
  {
   "cell_type": "code",
   "execution_count": null,
   "id": "8666279b",
   "metadata": {},
   "outputs": [],
   "source": [
    "plt.plot(x, f_new(x, *pi_plus_fit[-1,:]))\n",
    "plt.plot(x, f_leif(x, *pi_plus[-1,:]), \"C0--\", label=\"pi+\")\n",
    "plt.plot(x, f_new(x, *neutron_fit[0,:]))\n",
    "plt.plot(x, f_leif(x, *neutron[0,:]), \"C1--\", label=\"n\")\n",
    "plt.plot(x, f_new(x, *K0_long_fit[1,:]))\n",
    "plt.plot(x, f_leif(x, *K0_long[1,:]), \"C2--\", label=\"K0\")\n",
    "# plt.yscale(\"log\")\n",
    "plt.legend()"
   ]
  },
  {
   "cell_type": "markdown",
   "id": "073447ce",
   "metadata": {},
   "source": [
    "Not perfect, but it'll do for now.\n",
    "\n",
    "Finally, let's fit the energy dependency on the fit params.\n",
    "We try both linear and a power law. The latter is used in [1]"
   ]
  },
  {
   "cell_type": "code",
   "execution_count": null,
   "id": "270dad7c",
   "metadata": {},
   "outputs": [],
   "source": [
    "def lin_fit(p):\n",
    "    a_fit = linregress(lnE, p[:, 0])\n",
    "    b_fit = linregress(lnE, p[:, 1])\n",
    "\n",
    "    print(a_fit)\n",
    "    print(b_fit)\n",
    "\n",
    "lin_fit(pi_plus_fit)\n",
    "lin_fit(pi_minus_fit)\n",
    "lin_fit(K0_long_fit)\n",
    "lin_fit(proton_fit)\n",
    "lin_fit(anti_proton_fit)\n",
    "lin_fit(neutron_fit)"
   ]
  },
  {
   "cell_type": "code",
   "execution_count": null,
   "id": "5d3aa236",
   "metadata": {},
   "outputs": [],
   "source": [
    "from scipy.optimize import curve_fit\n",
    "\n",
    "def f_power(x, a, b):\n",
    "    return a * np.exp(x)**b\n",
    "\n",
    "def power_fit(p):\n",
    "    popt, pcov = curve_fit(f_power, lnE, p[:, 0], (1.0, 1.0))\n",
    "    print(f\"{popt}; {np.sqrt(np.diag(pcov))}\")\n",
    "    popt, pcov = curve_fit(f_power, lnE, p[:, 1], (1.0, 1.0))\n",
    "    print(f\"{popt}; {np.sqrt(np.diag(pcov))}\")\n",
    "\n",
    "power_fit(pi_plus_fit)\n",
    "power_fit(pi_minus_fit)\n",
    "power_fit(K0_long_fit)\n",
    "power_fit(proton_fit)\n",
    "power_fit(anti_proton_fit)\n",
    "power_fit(neutron_fit)"
   ]
  },
  {
   "cell_type": "markdown",
   "id": "9fa56bec",
   "metadata": {},
   "source": [
    "A power law fit does not look that much better, so we use the linear one to keep\n",
    "the code more simple."
   ]
  }
 ],
 "metadata": {
  "language_info": {
   "name": "python"
  }
 },
 "nbformat": 4,
 "nbformat_minor": 5
}
