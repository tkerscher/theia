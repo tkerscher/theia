{
 "cells": [
  {
   "cell_type": "markdown",
   "metadata": {},
   "source": [
    "# Scene Tracing\n",
    "\n",
    "A single detector in a homogenous medium is rarely an accurate model of an\n",
    "experiment. Scenes allow to introduce arbitrary boundaries between media, such\n",
    "as regions of varying scattering or the glass housing of the detector. This\n",
    "notebook will show how to create them.\n",
    "\n",
    "_We assume you already know the basics of tracing pipelines shown in the first\n",
    "notebook._"
   ]
  },
  {
   "cell_type": "code",
   "execution_count": null,
   "metadata": {},
   "outputs": [],
   "source": [
    "# Uncomment this, if you run this on Google Colab\n",
    "# !sudo apt-get install -y libnvidia-gl-550 vulkan-tools\n",
    "# !pip install git+https://github.com/tkerscher/theia\n",
    "# !git clone --depth 1 git+https://github.com/tkerscher/theia\n",
    "# !cd theia/notebooks"
   ]
  },
  {
   "cell_type": "code",
   "execution_count": null,
   "metadata": {},
   "outputs": [],
   "source": [
    "import numpy as np\n",
    "import matplotlib.pyplot as plt\n",
    "\n",
    "import hephaistos as hp\n",
    "import hephaistos.pipeline as pl\n",
    "\n",
    "import theia\n",
    "import theia.units as u\n",
    "\n",
    "# print device we run this on\n",
    "print(hp.getCurrentDevice())"
   ]
  },
  {
   "cell_type": "markdown",
   "metadata": {},
   "source": [
    "## Meshes"
   ]
  },
  {
   "cell_type": "markdown",
   "metadata": {},
   "source": [
    "Volume boundaries are defined by meshes consisting of triangles. To make them\n",
    "reusable we place them not directly in the scene, but define them in their own\n",
    "coordinate system we refer to as the _object space_. To place them in the scene,\n",
    "we reference them while assigning an (affine) transformation converting the\n",
    "object space to the scene's coordinate system, called the _world space_.\n",
    "\n",
    "Once placed in the scene, the mesh partitions the volume into an _inside_\n",
    "volume and an _outside_ volume using its surface normal, which, by definition,\n",
    "point from the inside to the outside. Both volumes may be further partitioned\n",
    "by other meshes, including placing them inside each other. This implies, that\n",
    "whether a volume is inside or outside can only be answered with respect to a\n",
    "specific mesh.\n",
    "\n",
    "Loading meshes from files and later onto the GPU is handled by `MeshStore`.\n",
    "It expects a dictionary mapping strings of mesh names to either a file path\n",
    "or to a `hephaistos.Mesh` instance containing the mesh. Let's start with that."
   ]
  },
  {
   "cell_type": "code",
   "execution_count": null,
   "metadata": {},
   "outputs": [],
   "source": [
    "from theia.scene import MeshStore\n",
    "\n",
    "meshStore = MeshStore({\n",
    "    \"cone\": \"../assets/cone.stl\",\n",
    "    \"cube\": \"../assets/cube.ply\",\n",
    "    \"sphere\": \"../assets/sphere.stl\",\n",
    "    \"suzanne\": \"../assets/suzanne.stl\",\n",
    "    \"torus\": \"../assets/torus.stl\",\n",
    "})"
   ]
  },
  {
   "cell_type": "markdown",
   "metadata": {},
   "source": [
    "## Material\n",
    "\n",
    "_Materials_ in combination with a specific mesh assign media to the respective\n",
    "inside and outside volumes. For instance, take an ice cube in water. The\n",
    "mesh would define the boundary or surface of the cube with the surface normal\n",
    "pointing from the center away. The material then assigns the inside to the glass\n",
    "medium and the outside to the water medium.\n",
    "\n",
    "Note that unlike in many other 3D software, materials define both inside and\n",
    "outside medium. This especially means, that if parts of your mesh touch different\n",
    "media, you have to split it. Imagine we introduce in our previous example a\n",
    "second cube containing a different medium. If this cube touches our ice cube,\n",
    "we have to split the original mesh into the part the touches the water and the\n",
    "part that touches the other cube, and assign appropriate materials to them.\n",
    "Another example is shown in the following illustration."
   ]
  },
  {
   "cell_type": "markdown",
   "metadata": {},
   "source": [
    "![material illustration](../docs/images/volume_interface.svg)"
   ]
  },
  {
   "cell_type": "markdown",
   "metadata": {},
   "source": [
    "Materials also allow to guide or constrain the tracer when encountering a mesh\n",
    "by e.g. absorbing the ray, ignoring transmissions or creating hits.\n",
    "Such behavior is defined by `flagsInwards` for light encountering the mesh from\n",
    "the outside medium and `flagsOutwards` for light from the inside medium.\n",
    "The available flags are:\n",
    "\n",
    "- `BLACK_BODY`: Rays are absorbed stopping tracing immediately.\n",
    "- `DETECTOR`: Indicates hits may produce a response.\n",
    "- `NO_REFLECT`: Disables reflection at this boundary.\n",
    "- `NO_TRANSMIT`: Disables transmission at this boundary.\n",
    "- `VOLUME_BORDER`: Only transmission without refracting the ray's direction."
   ]
  },
  {
   "cell_type": "markdown",
   "metadata": {},
   "source": [
    "After this lengthy explanation we go back to coding.\n",
    "Before we can create a material we need to define the media it references.\n",
    "Since we already explained in the previous notebook media, we go straight to work:"
   ]
  },
  {
   "cell_type": "code",
   "execution_count": null,
   "metadata": {},
   "outputs": [],
   "source": [
    "from theia.material import BK7Model, HenyeyGreensteinPhaseFunction, MediumModel, WaterBaseModel\n",
    "\n",
    "# we will define two media: water and glass\n",
    "class WaterModel(WaterBaseModel, HenyeyGreensteinPhaseFunction, MediumModel):\n",
    "    def __init__(self):\n",
    "        WaterBaseModel.__init__(\n",
    "            self,\n",
    "            temperature=4.0, # °C\n",
    "            pressure=10_000, # dbar ~ 10cm water depth\n",
    "            salinity=35.0    # PSU\n",
    "        )\n",
    "        HenyeyGreensteinPhaseFunction.__init__(self, 0.9)\n",
    "\n",
    "lamMin, lamMax = 400.0 * u.nm, 800.0 * u.nm\n",
    "water = WaterModel().createMedium(lamMin, lamMax, name=\"water\")\n",
    "glass = BK7Model().createMedium(lamMin, lamMax, name=\"glass\")"
   ]
  },
  {
   "cell_type": "markdown",
   "metadata": {},
   "source": [
    "Next we can define our materials. `Material` first takes a name which will be\n",
    "used to reference it when building the scene, followed by the medium inside and\n",
    "outside. Media can both be referenced by either passing the python object or by\n",
    "its name. In the latter case we have to ensure that the corresponding python\n",
    "object is either referenced by another material or pass it in a list to\n",
    "`MaterialStore`. The last argument specifies the flag, where you can use a\n",
    "shorthand string notation as described in the documentation of\n",
    "`parseMaterialFlags`."
   ]
  },
  {
   "cell_type": "code",
   "execution_count": null,
   "metadata": {},
   "outputs": [],
   "source": [
    "from theia.material import Material\n",
    "\n",
    "# inside glass, outside water\n",
    "# allow transmission in both sides, but reflection only from the water side\n",
    "glass_water = Material(\"glass_water\", glass, water, flags=(\"TR\", \"T\"))\n",
    "\n",
    "# inside air, outside glass\n",
    "# None denotes vacuum, which is close enough to air for us\n",
    "# if we want to apply the same flags to both directions we can skip the tuple\n",
    "air_glass = Material(\"air_glass\", None, \"glass\", flags=\"T\")\n",
    "\n",
    "# detector material inside glass\n",
    "# since we will mark it as absorber, the exact material won't matter\n",
    "# -> choose vacuum (None)\n",
    "det_water = Material(\"det_water\", None, water, flags=\"BD\")"
   ]
  },
  {
   "cell_type": "markdown",
   "metadata": {},
   "source": [
    "Finally, to make the material available on the GPU, we have to pass everything\n",
    "to `MaterialStore`:"
   ]
  },
  {
   "cell_type": "code",
   "execution_count": null,
   "metadata": {},
   "outputs": [],
   "source": [
    "from theia.material import MaterialStore\n",
    "\n",
    "# MaterialStore automatically collects all referenced media\n",
    "# You only have to pass them if all materials reference them only by name\n",
    "matStore = MaterialStore([glass_water, air_glass, det_water])"
   ]
  },
  {
   "cell_type": "markdown",
   "metadata": {},
   "source": [
    "## Scene"
   ]
  },
  {
   "cell_type": "markdown",
   "metadata": {},
   "source": [
    "Now that we have all the building blocks required, we can finally create a\n",
    "scene. To keep things simple, we will only add a black body detector sphere and\n",
    "a hollow glass sphere, i.e. an outer and an inner shell, filled with air. Later,\n",
    "we will place a point light source in its center.\n",
    "\n",
    "To actually use a Mesh, we ask `MeshStore` to create a new instance of the\n",
    "mesh referenced by its name. In this step we also specify the material we want\n",
    "to apply to the instance as well as the transformation translating the mesh's\n",
    "triangles defined in its object space to the global shared world space.\n",
    "\n",
    "Meshes corresponding to detectors should specify `detectorId`. The scene tracer\n",
    "has a similar property. If a light ray hits a mesh and that direction has the\n",
    "`DETCTOR` flag set, the tracer will check if both ids match and only then create\n",
    "a hit. This is useful to select a single detector if your scene contains\n",
    "multiple ones. Note that multiple meshes may share the same id.\n",
    "\n",
    "Once all instances are created, you collect them into a list and pass it to the\n",
    "new `Scene` at creation alongside the dictionary of materials provided by\n",
    "`MaterialStore` used to resolve the assigned materials. Scenes also define a\n",
    "tracing boundary box limiting the spread of light rays by terminating rays that\n",
    "leave the box. By default it allows 1km in each primal direction from the origin.\n",
    "Finally, it is good practice to define the medium of the outermost volume."
   ]
  },
  {
   "cell_type": "code",
   "execution_count": null,
   "metadata": {},
   "outputs": [],
   "source": [
    "from theia.scene import Scene, Transform\n",
    "\n",
    "# sphere sizes\n",
    "radius_outer = 80.0 * u.cm\n",
    "radius_inner = 75.0 * u.cm\n",
    "radius_det = 60.0 * u.cm\n",
    "# sphere position\n",
    "light_pos = (3.0, 0.0, 0.0) * u.m\n",
    "det_pos = (0.0, 3.0, 0.0) * u.m\n",
    "\n",
    "# place all three spheres\n",
    "outer_sphere = meshStore.createInstance(\"sphere\", \"glass_water\", Transform.TRS(scale=radius_outer, translate=light_pos))\n",
    "inner_sphere = meshStore.createInstance(\"sphere\", \"air_glass\", Transform.TRS(scale=radius_inner, translate=light_pos))\n",
    "det_sphere = meshStore.createInstance(\"sphere\", \"det_water\", Transform.TRS(scale=radius_det, translate=det_pos), detectorId=1)\n",
    "\n",
    "# collect them in a scene\n",
    "scene = Scene(\n",
    "    [outer_sphere, inner_sphere, det_sphere],\n",
    "    materials=matStore.material,\n",
    "    medium=matStore.media[\"water\"],    \n",
    ")"
   ]
  },
  {
   "cell_type": "markdown",
   "metadata": {},
   "source": [
    "## Simulation Pipeline"
   ]
  },
  {
   "cell_type": "markdown",
   "metadata": {},
   "source": [
    "Creating the simulation pipeline is similar to what has been shown in the\n",
    "previous notebook with the key difference being that we replace\n",
    "`VolumeForwardTracer` with `SceneForwardTracer`, and `Target` with `TargetGuide`.\n",
    "The latter is optionally, but omitting it causes the tracing process to create\n",
    "hits only by chance, i.e. it won't create alternative light paths by sampling\n",
    "direction aimed at the detector/target."
   ]
  },
  {
   "cell_type": "code",
   "execution_count": null,
   "metadata": {},
   "outputs": [],
   "source": [
    "from theia.light import UniformWavelengthSource, SphericalLightSource\n",
    "from theia.random import PhiloxRNG\n",
    "from theia.response import HistogramHitResponse, UniformValueResponse\n",
    "from theia.target import SphereTargetGuide\n",
    "from theia.trace import SceneForwardTracer\n",
    "\n",
    "batch_size = 512 * 1024 # how many light paths to sample per run\n",
    "sample_coef = 0.05 / u.m # \"scatter\" length used for sampling path segment lengths\n",
    "n_scatter = 10 # Number of scatter events to simulate for each path\n",
    "\n",
    "n_bins = 100\n",
    "bin_size = 5.0 * u.ns\n",
    "\n",
    "wavelength = UniformWavelengthSource(lambdaRange=(lamMin, lamMax))\n",
    "light = SphericalLightSource(\n",
    "    position=light_pos,\n",
    "    timeRange=(0.0, 10.0) * u.ns,\n",
    "    budget=1.0e5,\n",
    ")\n",
    "guide = SphereTargetGuide(position=det_pos, radius=radius_det)\n",
    "response = HistogramHitResponse(\n",
    "    UniformValueResponse(),\n",
    "    nBins=n_bins,\n",
    "    binSize=bin_size,\n",
    ")\n",
    "rng = PhiloxRNG(key=42)\n",
    "\n",
    "tracer = SceneForwardTracer(\n",
    "    batch_size,\n",
    "    light,\n",
    "    wavelength,\n",
    "    response,\n",
    "    rng,\n",
    "    scene,\n",
    "    maxPathLength=n_scatter,\n",
    "    sourceMedium=0, # we start in air\n",
    "    scatterCoefficient=sample_coef,\n",
    "    targetId=1, # matches the detectorId\n",
    "    targetGuide=guide,\n",
    ")\n",
    "\n",
    "rng.autoAdvance = tracer.nRNGSamples"
   ]
  },
  {
   "cell_type": "markdown",
   "metadata": {},
   "source": [
    "Before continuing, let's look into some differences with `SceneForwardTracer`:\n",
    "\n",
    "- `nScattering` became `maxPathLength`. The reason is that besides volume\n",
    "  scattering, mesh intersection also counts towards that limit.\n",
    "- `sourceMedium` specifying the medium surrounding the light became optional.\n",
    "  If not specified the scene's medium will be used.\n",
    "- With `targetIdx` we can \"enable\" a specify detector mesh or group thereof as\n",
    "  explained before."
   ]
  },
  {
   "cell_type": "markdown",
   "metadata": {},
   "source": [
    "Everything hereafter should be familiar: We create the pipeline, submit some\n",
    "work and plot the result."
   ]
  },
  {
   "cell_type": "markdown",
   "metadata": {},
   "source": [
    "## Finishing the Pipeline"
   ]
  },
  {
   "cell_type": "code",
   "execution_count": null,
   "metadata": {},
   "outputs": [],
   "source": [
    "n_runs = 20\n",
    "\n",
    "hists = []\n",
    "def process(config: int, i: int) -> None:\n",
    "    hists.append(response.result(config).copy())\n",
    "\n",
    "pipeline = pl.Pipeline(tracer.collectStages())\n",
    "scheduler = pl.PipelineScheduler(pipeline, processFn=process)\n",
    "\n",
    "tasks = [{}, ] * n_runs\n",
    "scheduler.schedule(tasks)\n",
    "scheduler.wait()"
   ]
  },
  {
   "cell_type": "code",
   "execution_count": null,
   "metadata": {},
   "outputs": [],
   "source": [
    "final_hist = np.mean(hists, 0)\n",
    "t = np.arange(n_bins) * bin_size\n",
    "\n",
    "plt.figure()\n",
    "plt.step(t, final_hist)\n",
    "plt.yscale(\"log\")\n",
    "plt.show()"
   ]
  }
 ],
 "metadata": {
  "language_info": {
   "name": "python"
  }
 },
 "nbformat": 4,
 "nbformat_minor": 2
}
