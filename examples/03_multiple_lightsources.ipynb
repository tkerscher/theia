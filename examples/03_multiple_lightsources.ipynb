{
 "cells": [
  {
   "cell_type": "markdown",
   "id": "62f2c892",
   "metadata": {},
   "source": [
    "# Multiple Light Source\n",
    "\n",
    "Simulating multiple light sources is straightforward by exploiting the linearity\n",
    "of the radiance field: We simply run a separate simulation for each light source\n",
    "and aggregate the results, for instance using addition.\n",
    "\n",
    "If all light sources use the same model (e.g. `SphericalLightSource`) one can\n",
    "simply reuse the same pipeline and issue multiple tasks. If however the light\n",
    "sources differ in their nature, say a point source and an extend track, you\n",
    "will have to create a separate pipeline for each type. Fortunately, pipeline\n",
    "stages may be shared between pipelines (as long as they do not run in parallel)\n",
    "and multiple pipelines can be managed by the same scheduler requiring only\n",
    "minimal changes compared to the previous examples as we will show in this\n",
    "notebook.\n",
    "\n",
    "To keep things simple we will combine a `SphericalLightSource` and a\n",
    "`PencilLightSource` with an ordinary `VolumeForwardTracer`."
   ]
  },
  {
   "cell_type": "code",
   "execution_count": null,
   "id": "beabbe00",
   "metadata": {},
   "outputs": [],
   "source": [
    "# Uncomment this, if you run this on Google Colab\n",
    "# !sudo apt-get install -y libnvidia-gl-550 vulkan-tools\n",
    "# !pip install git+https://github.com/tkerscher/theia"
   ]
  },
  {
   "cell_type": "code",
   "execution_count": null,
   "id": "a2937b5e",
   "metadata": {},
   "outputs": [],
   "source": [
    "import numpy as np\n",
    "import matplotlib.pyplot as plt\n",
    "\n",
    "import hephaistos as hp\n",
    "import hephaistos.pipeline as pl\n",
    "\n",
    "import theia\n",
    "import theia.units as u\n",
    "\n",
    "# print device we run this on\n",
    "print(hp.getCurrentDevice())"
   ]
  },
  {
   "cell_type": "markdown",
   "id": "91e10217",
   "metadata": {},
   "source": [
    "The following steps should feel similar from the `01_volume_tracing` example.\n",
    "Only difference being, that here we create two pipelines, one for each light\n",
    "source."
   ]
  },
  {
   "cell_type": "code",
   "execution_count": null,
   "id": "9f00d6d1",
   "metadata": {},
   "outputs": [],
   "source": [
    "# Load medium to GPU\n",
    "# How to create media should be already known so we will use a premade one\n",
    "medium = theia.testing.WaterTestModel().createMedium()\n",
    "store = theia.material.MaterialStore([], media=[medium])\n",
    "\n",
    "# shared stages\n",
    "rng = theia.random.PhiloxRNG(key=0xABBA)\n",
    "response = theia.response.HistogramHitResponse(\n",
    "    theia.response.UniformValueResponse(),\n",
    "    nBins=100,\n",
    "    binSize=5.0 * u.ns,\n",
    ")\n",
    "target = theia.target.SphereTarget(\n",
    "    position=(-1.0, 0.0, 0.0) * u.m,\n",
    "    radius=50.0 * u.cm,\n",
    ")\n",
    "wavelength = theia.light.ConstWavelengthSource(500.0 * u.nm)\n",
    "sharedStages = [target, wavelength, response, rng]\n",
    "\n",
    "# the two light sources, we config them later using tasks\n",
    "sphereLight = theia.light.SphericalLightSource()\n",
    "pencilLight = theia.light.PencilLightSource()\n",
    "\n",
    "# share settings between tracer via dict\n",
    "batchSize = 512 * 1024\n",
    "tracerParams = {\n",
    "    \"nScattering\": 10,\n",
    "    \"medium\": store.media[\"water\"],\n",
    "}\n",
    "# create two separate tracers for each light source\n",
    "# Tracers cannot be shared as they contain compiled code\n",
    "sphereTracer = theia.trace.VolumeForwardTracer(\n",
    "    batchSize,\n",
    "    sphereLight,\n",
    "    *sharedStages,\n",
    "    **tracerParams,\n",
    ")\n",
    "pencilTracer = theia.trace.VolumeForwardTracer(\n",
    "    batchSize,\n",
    "    pencilLight,\n",
    "    *sharedStages,\n",
    "    **tracerParams,\n",
    ")\n",
    "# set up auto advance\n",
    "rng.autoAdvance = max(sphereTracer.nRNGSamples, pencilTracer.nRNGSamples)\n",
    "\n",
    "# Finally, create the two pipelines\n",
    "spherePipeline = pl.Pipeline(sphereTracer.collectStages())\n",
    "pencilPipeline = pl.Pipeline(pencilTracer.collectStages())"
   ]
  },
  {
   "cell_type": "markdown",
   "id": "a5eaaa7f",
   "metadata": {},
   "source": [
    "With the pipelines ready we can now create our scheduler. To use multiple\n",
    "pipelines with a scheduler you have to pass as a list of tuples, each assigning\n",
    "a name to the corresponding pipeline. This name is later used to specify on\n",
    "which pipeline to run a task.\n",
    "\n",
    "Note that because we shared `response` between both tracers, our process function\n",
    "does not need to know which pipeline produced the results."
   ]
  },
  {
   "cell_type": "code",
   "execution_count": null,
   "id": "65517a58",
   "metadata": {},
   "outputs": [],
   "source": [
    "hists = []\n",
    "def process(config: int, batch: int, args: None) -> None:\n",
    "    hists.append(response.result(config).copy())\n",
    "\n",
    "pipelineMap = {\n",
    "    \"sphere\": spherePipeline,\n",
    "    \"pencil\": pencilPipeline,\n",
    "}\n",
    "scheduler = pl.PipelineScheduler(pipelineMap, processFn=process)"
   ]
  },
  {
   "cell_type": "markdown",
   "id": "1a8fea42",
   "metadata": {},
   "source": [
    "After everything is set up, we can finally issue some work to the pipelines.\n",
    "Unlike in previous examples, tasks now have to specify on which pipeline to run."
   ]
  },
  {
   "cell_type": "code",
   "execution_count": null,
   "id": "30d8a8aa",
   "metadata": {},
   "outputs": [],
   "source": [
    "tasks = [\n",
    "    # tuple with pipeline name + params to apply\n",
    "    (\"sphere\", {\n",
    "        \"lightSource__budget\": 1e5,\n",
    "        \"lightSource__timeRange\": (0.0, 10.0) * u.ns,\n",
    "        \"lightSource__position\": (1.0, 0.0, 0.0) * u.m,\n",
    "    }),\n",
    "    # issue another 4 batches with the same params\n",
    "    (\"sphere\", {}),\n",
    "    (\"sphere\", {}),\n",
    "    (\"sphere\", {}),\n",
    "    (\"sphere\", {}),\n",
    "    # next is the pencil light source\n",
    "    (\"pencil\", {\n",
    "        \"lightSource__position\": (0.0, 1.0, 0.0) * u.m,\n",
    "        \"lightSource__direction\": (-0.8, -0.36, -0.24),\n",
    "        \"lightSource__budget\": 5e6,\n",
    "        \"lightSource__timeRange\": (8.0, 8.5) * u.ns,\n",
    "    }),\n",
    "    (\"pencil\", {}),\n",
    "    (\"pencil\", {}),\n",
    "    (\"pencil\", {}),\n",
    "    (\"pencil\", {}),\n",
    "]\n",
    "\n",
    "# submit work\n",
    "scheduler.schedule(tasks)\n",
    "scheduler.wait()"
   ]
  },
  {
   "cell_type": "markdown",
   "id": "edd3bf0a",
   "metadata": {},
   "source": [
    "Last thing to do is to make some nice plots"
   ]
  },
  {
   "cell_type": "code",
   "execution_count": null,
   "id": "2c9bb82a",
   "metadata": {},
   "outputs": [],
   "source": [
    "t = np.arange(response.nBins) * response.binSize + response.t0\n",
    "# aggregate the five batches per light source\n",
    "sphereSignal = np.mean(hists[:5], 0)\n",
    "pencilSignal = np.mean(hists[5:], 0)\n",
    "\n",
    "plt.figure()\n",
    "plt.step(t, sphereSignal, label=\"sphere\")\n",
    "plt.step(t, pencilSignal, label=\"pencil\")\n",
    "plt.yscale(\"log\")\n",
    "plt.legend()\n",
    "plt.show()"
   ]
  }
 ],
 "metadata": {
  "language_info": {
   "name": "python"
  }
 },
 "nbformat": 4,
 "nbformat_minor": 5
}
